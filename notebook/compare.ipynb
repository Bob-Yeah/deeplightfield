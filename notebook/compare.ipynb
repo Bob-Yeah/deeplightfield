{
 "cells": [
  {
   "cell_type": "code",
   "execution_count": null,
   "metadata": {},
   "outputs": [],
   "source": [
    "import sys\n",
    "import os\n",
    "import torch\n",
    "import matplotlib.pyplot as plt\n",
    "import torchvision.transforms.functional as trans_f\n",
    "\n",
    "sys.path.append(os.path.abspath(sys.path[0] + '/../../'))\n",
    "__package__ = \"deep_view_syn.notebook\"\n",
    "\n",
    "from ..my import util\n",
    "\n",
    "path_patts = [\n",
    "    '/home/dengnc/deep_view_syn/data/gas_fovea_mid_trans_2021.01.11/test/view_%04d.png',\n",
    "    '/home/dengnc/deep_view_syn/data/gas_fovea_mid_trans_2021.01.11/fovea_rgb@msl-rgb_e10_fc256x4_d1-50_s16/output/model-epoch_500/test/out_view_%04d.png',\n",
    "    '/home/dengnc/deep_view_syn/data/gas_fovea_mid_trans_2021.01.11/new_fovea_rgb@nmsl-rgb_e10_fc256x4_d1-50_s16/output/model-epoch_300/test/out_view_%04d.png',\n",
    "    # '/out_view_%04d.png',\n",
    "    '/home/dengnc/deep_view_syn/data/gas_fovea_mid_trans_2021.01.11/new_fovea_rgb@nmsl-rgb_e10_fc128x4_d1-50_s32/output/model-epoch_200/test/out_view_%04d.png'\n",
    "]\n",
    "titles = ['Ground truth', 'Baseline', 'NMSL', 'With Dir', 'NMSL_32']\n",
    "#show_range = range(20)\n",
    "show_range = [ 2, 4, 5, 10, 12, 13, 14 ]\n",
    "\n",
    "# os.chdir('/home/dengnc/deep_view_syn/data/')\n",
    "image_seqs = [\n",
    "    util.ReadImageTensor([path_patt % i for i in show_range])\n",
    "    for path_patt in path_patts\n",
    "]\n",
    "\n",
    "for i in show_range:\n",
    "    plt.figure(facecolor='white', figsize=(4 * len(image_seqs), 4))\n",
    "    plt.suptitle('View %d' % i)\n",
    "    for j in range(len(image_seqs)):\n",
    "        plt.subplot(1, len(image_seqs), j + 1)\n",
    "        plt.title(titles[j])\n",
    "        util.PlotImageTensor(image_seqs[j][i])\n"
   ]
  },
  {
   "cell_type": "code",
   "execution_count": null,
   "metadata": {},
   "outputs": [],
   "source": []
  }
 ],
 "metadata": {
  "kernelspec": {
   "display_name": "Python 3",
   "language": "python",
   "name": "python3"
  },
  "language_info": {
   "codemirror_mode": {
    "name": "ipython",
    "version": 3
   },
   "file_extension": ".py",
   "mimetype": "text/x-python",
   "name": "python",
   "nbconvert_exporter": "python",
   "pygments_lexer": "ipython3",
   "version": "3.7.9-final"
  },
  "orig_nbformat": 2
 },
 "nbformat": 4,
 "nbformat_minor": 2
}